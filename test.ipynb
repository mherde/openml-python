{
 "cells": [
  {
   "cell_type": "code",
   "execution_count": 23,
   "metadata": {},
   "outputs": [
    {
     "name": "stderr",
     "output_type": "stream",
     "text": [
      "WARNING:openml.extensions.sklearn.extension:Attributes not available in docstring\n",
      "WARNING:openml.extensions.sklearn.extension:Notes not available in docstring\n",
      "WARNING:openml.extensions.sklearn.extension:See also not available in docstring\n",
      "WARNING:openml.extensions.sklearn.extension:Note not available in docstring\n",
      "WARNING:openml.extensions.sklearn.extension:References not available in docstring\n",
      "WARNING:openml.extensions.sklearn.extension:'Read more' not found in descriptions. Trying to trim till 'Parameters' if available in docstring.\n"
     ]
    }
   ],
   "source": [
    "from sklearn import ensemble\n",
    "from openml.tasks import OpenMLActiveClassificationTask, TaskType\n",
    "from openml import tasks, runs\n",
    "from skactiveml.classifier import ParzenWindowClassifier\n",
    "from skactiveml.pool import RandomSampling\n",
    "import openml\n",
    "\n",
    "with open('openml_apikey', 'r') as f:\n",
    "    openml.config.apikey = f.read()\n",
    "\n",
    "# Build any model you like\n",
    "clf = ensemble.RandomForestClassifier()\n",
    "\n",
    "task_id = 7555\n",
    "task = tasks.get_task(task_id)\n",
    "\n",
    "task = OpenMLActiveClassificationTask(\n",
    "        task_type_id=TaskType.ACTIVE_CLASSIFICATION,\n",
    "        task_type=\"ACTIVE_CLASSIFICATION\",\n",
    "        data_set_id=task.dataset_id,\n",
    "        target_name=task.target_name,\n",
    "        budget= 100,\n",
    "        task_id=task_id,\n",
    "        class_labels=task.class_labels\n",
    "    )\n",
    "\n",
    "model = {\n",
    "    'query_strategy':RandomSampling(missing_label=None),\n",
    "    'prediction_model':ParzenWindowClassifier(missing_label=None),\n",
    "    'selector_model':ParzenWindowClassifier(missing_label=None),\n",
    "}\n",
    "\n",
    "# Automatically evaluate your model on the task\n",
    "run = runs.run_model_on_task(model, task, upload_flow=False, n_jobs=-1, seed=0)"
   ]
  },
  {
   "cell_type": "code",
   "execution_count": 24,
   "metadata": {},
   "outputs": [
    {
     "data": {
      "text/plain": [
       "OrderedDict([(0, OrderedDict([(0, 0.5928853754940712)]))])"
      ]
     },
     "execution_count": 24,
     "metadata": {},
     "output_type": "execute_result"
    }
   ],
   "source": [
    "run.fold_evaluations['predictive_accuracy']"
   ]
  },
  {
   "cell_type": "code",
   "execution_count": 9,
   "metadata": {},
   "outputs": [
    {
     "data": {
      "text/plain": [
       "OrderedDict([(0,\n",
       "              OrderedDict([(0, 1.0),\n",
       "                           (1, 0.9333333333333333),\n",
       "                           (2, 0.9333333333333333),\n",
       "                           (3, 0.9333333333333333),\n",
       "                           (4, 0.9333333333333333),\n",
       "                           (5, 0.8666666666666667),\n",
       "                           (6, 1.0),\n",
       "                           (7, 0.9333333333333333),\n",
       "                           (8, 0.9333333333333333),\n",
       "                           (9, 1.0)]))])"
      ]
     },
     "execution_count": 9,
     "metadata": {},
     "output_type": "execute_result"
    }
   ],
   "source": [
    "run.fold_evaluations['predictive_accuracy']"
   ]
  },
  {
   "cell_type": "code",
   "execution_count": 4,
   "metadata": {},
   "outputs": [],
   "source": [
    "from sklearn import ensemble\n",
    "from openml.tasks import OpenMLActiveClassificationTask, TaskType\n",
    "from openml import tasks, runs\n",
    "from skactiveml.classifier import ParzenWindowClassifier\n",
    "from skactiveml.pool import RandomSampling\n",
    "import openml\n",
    "\n",
    "openml.config.apikey = '25d67844e3610871b4a0895f242440fe'\n",
    "\n",
    "# Build any model you like\n",
    "clf = ensemble.RandomForestClassifier()\n",
    "\n",
    "task = tasks.get_task(7555)"
   ]
  },
  {
   "cell_type": "code",
   "execution_count": 5,
   "metadata": {},
   "outputs": [
    {
     "data": {
      "text/plain": [
       "['Iris-setosa', 'Iris-versicolor', 'Iris-virginica']"
      ]
     },
     "execution_count": 5,
     "metadata": {},
     "output_type": "execute_result"
    }
   ],
   "source": [
    "task.class_labels"
   ]
  },
  {
   "cell_type": "code",
   "execution_count": null,
   "metadata": {},
   "outputs": [],
   "source": []
  }
 ],
 "metadata": {
  "interpreter": {
   "hash": "b1686965f4865d96dc103f8dbe26a21474def9bc9131d2b1aa2fd03680a1d89b"
  },
  "kernelspec": {
   "display_name": "Python 3.8.5 ('wsp')",
   "language": "python",
   "name": "python3"
  },
  "language_info": {
   "codemirror_mode": {
    "name": "ipython",
    "version": 3
   },
   "file_extension": ".py",
   "mimetype": "text/x-python",
   "name": "python",
   "nbconvert_exporter": "python",
   "pygments_lexer": "ipython3",
   "version": "3.8.5"
  },
  "orig_nbformat": 4
 },
 "nbformat": 4,
 "nbformat_minor": 2
}
